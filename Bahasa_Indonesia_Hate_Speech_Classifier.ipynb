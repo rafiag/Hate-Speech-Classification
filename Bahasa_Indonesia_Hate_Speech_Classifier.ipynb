{
  "nbformat": 4,
  "nbformat_minor": 0,
  "metadata": {
    "colab": {
      "name": "Bahasa Indonesia Hate Speech Classifier.ipynb",
      "provenance": [],
      "collapsed_sections": [],
      "authorship_tag": "ABX9TyMm2co7uSTXDN8US4Z3AUJQ",
      "include_colab_link": true
    },
    "kernelspec": {
      "name": "python3",
      "display_name": "Python 3"
    }
  },
  "cells": [
    {
      "cell_type": "markdown",
      "metadata": {
        "id": "view-in-github",
        "colab_type": "text"
      },
      "source": [
        "<a href=\"https://colab.research.google.com/github/rafiag/Hate-Speech-Classification/blob/main/Bahasa_Indonesia_Hate_Speech_Classifier.ipynb\" target=\"_parent\"><img src=\"https://colab.research.google.com/assets/colab-badge.svg\" alt=\"Open In Colab\"/></a>"
      ]
    },
    {
      "cell_type": "markdown",
      "metadata": {
        "id": "GAGmKYgqJp_g"
      },
      "source": [
        "# Text Mining with Python\n",
        "\n",
        "Text mining is the process of extracting the implicit knowledge from textual data. Because the implicit knowledge which is the output of text mining does not exist in the given storage, it should be distinguished from the information which is retrieved from the storage. Unlike regular machine learning problems, text mining have it's own challenges. One of those challenges is how to transform our text data from a set of words to something meaningful and easy for the computer to understand. In this notebook I will try to demonstrate one form of text mining, text classification, to classify if a tweet is hate speech or not.\n",
        "\n",
        "Before we start, we will load some libraries we will be using in the code cell below."
      ]
    },
    {
      "cell_type": "code",
      "metadata": {
        "id": "zeBaa6krH8BP"
      },
      "source": [
        "# Import libraries\n",
        "## Basic libs\n",
        "import pandas as pd\n",
        "import numpy as np\n",
        "import warnings\n",
        "## Data Visualization\n",
        "import seaborn as sns\n",
        "import matplotlib.pyplot as plt\n",
        "\n",
        "# Configure libraries\n",
        "warnings.filterwarnings('ignore')\n",
        "plt.rcParams['figure.figsize'] = (10, 10)\n",
        "plt.style.use('seaborn')\n",
        "sns.set(rc={'figure.facecolor':'white'})\n",
        "sns.set_palette('Accent')"
      ],
      "execution_count": 1,
      "outputs": []
    },
    {
      "cell_type": "markdown",
      "metadata": {
        "id": "FtPjse2ZJwy4"
      },
      "source": [
        "# Loading Data\n",
        "\n",
        "The dataset I will be using is originally taken from ['The Dataset for Hate Speech Detection in the Indonesian Language (Bahasa Indonesia)'](https://github.com/ialfina/id-hatespeech-detection/). I modified the data from TSV to CSV and uploaded it into my GitHub repos for easier load process."
      ]
    },
    {
      "cell_type": "code",
      "metadata": {
        "colab": {
          "base_uri": "https://localhost:8080/",
          "height": 224
        },
        "id": "vZG_1V3EQBBw",
        "outputId": "bd4d8a3d-708d-4f27-c43f-e51607b5765b"
      },
      "source": [
        "df = pd.read_csv('https://raw.githubusercontent.com/rafiag/Hate-Speech-Classification/main/hate_speech_dataset.csv')\n",
        "\n",
        "print(df.shape)\n",
        "df.head()"
      ],
      "execution_count": 2,
      "outputs": [
        {
          "output_type": "stream",
          "text": [
            "(713, 2)\n"
          ],
          "name": "stdout"
        },
        {
          "output_type": "execute_result",
          "data": {
            "text/html": [
              "<div>\n",
              "<style scoped>\n",
              "    .dataframe tbody tr th:only-of-type {\n",
              "        vertical-align: middle;\n",
              "    }\n",
              "\n",
              "    .dataframe tbody tr th {\n",
              "        vertical-align: top;\n",
              "    }\n",
              "\n",
              "    .dataframe thead th {\n",
              "        text-align: right;\n",
              "    }\n",
              "</style>\n",
              "<table border=\"1\" class=\"dataframe\">\n",
              "  <thead>\n",
              "    <tr style=\"text-align: right;\">\n",
              "      <th></th>\n",
              "      <th>Label</th>\n",
              "      <th>Tweet</th>\n",
              "    </tr>\n",
              "  </thead>\n",
              "  <tbody>\n",
              "    <tr>\n",
              "      <th>0</th>\n",
              "      <td>Non_HS</td>\n",
              "      <td>RT @spardaxyz: Fadli Zon Minta Mendagri Segera...</td>\n",
              "    </tr>\n",
              "    <tr>\n",
              "      <th>1</th>\n",
              "      <td>Non_HS</td>\n",
              "      <td>RT @baguscondromowo: Mereka terus melukai aksi...</td>\n",
              "    </tr>\n",
              "    <tr>\n",
              "      <th>2</th>\n",
              "      <td>Non_HS</td>\n",
              "      <td>Sylvi: bagaimana gurbernur melakukan kekerasan...</td>\n",
              "    </tr>\n",
              "    <tr>\n",
              "      <th>3</th>\n",
              "      <td>Non_HS</td>\n",
              "      <td>Ahmad Dhani Tak Puas Debat Pilkada, Masalah Ja...</td>\n",
              "    </tr>\n",
              "    <tr>\n",
              "      <th>4</th>\n",
              "      <td>Non_HS</td>\n",
              "      <td>RT @lisdaulay28: Waspada KTP palsu.....kawal P...</td>\n",
              "    </tr>\n",
              "  </tbody>\n",
              "</table>\n",
              "</div>"
            ],
            "text/plain": [
              "    Label                                              Tweet\n",
              "0  Non_HS  RT @spardaxyz: Fadli Zon Minta Mendagri Segera...\n",
              "1  Non_HS  RT @baguscondromowo: Mereka terus melukai aksi...\n",
              "2  Non_HS  Sylvi: bagaimana gurbernur melakukan kekerasan...\n",
              "3  Non_HS  Ahmad Dhani Tak Puas Debat Pilkada, Masalah Ja...\n",
              "4  Non_HS  RT @lisdaulay28: Waspada KTP palsu.....kawal P..."
            ]
          },
          "metadata": {
            "tags": []
          },
          "execution_count": 2
        }
      ]
    },
    {
      "cell_type": "markdown",
      "metadata": {
        "id": "zDgMPNALJts-"
      },
      "source": [
        "# Text Pre-Processing\n",
        "\n",
        "Before we can begin to create our model we first need to  pre-process the data. This step ensure that our model will receive a good data to learn from, as they said \"a model is only as good as it's data\". This is especially true for our text dataset which originated from Twitter, which can really be messy if we didn't clean it before passing it into the model.\n",
        "\n",
        "As I explained above, this process will be different from doing data pre-processing on structured data.  The data pre-processing will be divided into few steps as explained below."
      ]
    },
    {
      "cell_type": "markdown",
      "metadata": {
        "id": "P8YW9tGrWDFe"
      },
      "source": [
        "## Checking Class Distribution\n",
        "\n",
        "Another important thing to make sure before feeding our data into the model is the class distribution of the data. In our case where the expected class are divided into two outcome, 'HS' and 'No_HS', a class distribution of 50:50 can be considered ideal."
      ]
    },
    {
      "cell_type": "code",
      "metadata": {
        "colab": {
          "base_uri": "https://localhost:8080/"
        },
        "id": "Ov5Qsot3V9V-",
        "outputId": "43fd94f3-6477-416a-ef1d-5ec1d689504b"
      },
      "source": [
        "df['Label'].value_counts()"
      ],
      "execution_count": 3,
      "outputs": [
        {
          "output_type": "execute_result",
          "data": {
            "text/plain": [
              "Non_HS    453\n",
              "HS        260\n",
              "Name: Label, dtype: int64"
            ]
          },
          "metadata": {
            "tags": []
          },
          "execution_count": 3
        }
      ]
    },
    {
      "cell_type": "markdown",
      "metadata": {
        "id": "VYpUvyVU_Fac"
      },
      "source": [
        "Look likes our class distribution isn't exactly ideal. To solve this problem we can try to either undersample (removing data from majority class) or oversampling (create new data for the minority class). In this notebook I won't do either one of those beacause I personally think the imbalance isn't that bad. [Here](https://towardsdatascience.com/how-i-handled-imbalanced-text-data-ba9b757ab1d8) is a good reference how to handle imbalanced text data if you are interested in doing so."
      ]
    },
    {
      "cell_type": "markdown",
      "metadata": {
        "id": "pyIoeYkAWTxC"
      },
      "source": [
        "## Text Cleaning\n",
        "\n",
        "On the next few cell block we will try to clean our data into a more usable data for our model to learn from. Before we do that, let's make a copy of our original dataframe to avoid messing with the original dataset by using the pandas `.copy()` function.\n",
        "\n"
      ]
    },
    {
      "cell_type": "code",
      "metadata": {
        "id": "ofwTkATE_D8R"
      },
      "source": [
        "# Copy original dataframe to avoid messing the original data\n",
        "df1 = df.copy()"
      ],
      "execution_count": 4,
      "outputs": []
    },
    {
      "cell_type": "markdown",
      "metadata": {
        "id": "YxHtjMutX9bn"
      },
      "source": [
        "### Tokenize\n",
        "\n",
        "The first step we will do is tokenizing our data. Tokenizing data simply means that we will separate our data from sentence into a list of words, for example:\n",
        "\n",
        "|  | Result |\n",
        "|-|-|\n",
        "| Original | @JohnDoe Hai, apa kabar? Aku baru bergabung ke #twitter nih |\n",
        "| Tokenize | ['@JohnDoe', 'Hai', 'apa', 'kabar', 'aku', 'baru', 'bergabung', 'ke', '#twitter', 'nih'] |\n",
        "\n",
        "In this step I will be using a function I wrote some times ago. The function will be utilizing the NLTK tokenizer to also include function to remove any punctuation from the data."
      ]
    },
    {
      "cell_type": "code",
      "metadata": {
        "colab": {
          "base_uri": "https://localhost:8080/",
          "height": 242
        },
        "id": "fdBixmitZYIO",
        "outputId": "381d59c7-02f6-4e4d-f5c9-64cea74341d1"
      },
      "source": [
        "import nltk\n",
        "from nltk.tokenize import RegexpTokenizer\n",
        "nltk.download('punkt')\n",
        "\n",
        "def tokenizeWords(s, remove_punctuation=True):\n",
        "    if remove_punctuation == True:\n",
        "        tokenizer = RegexpTokenizer('\\w+|\\$[\\d\\.]+|\\S+')\n",
        "        clean_words = tokenizer.tokenize(s)\n",
        "    else:\n",
        "        clean_words = nltk.word_tokenize(s)\n",
        "    return clean_words\n",
        "\n",
        "# Tokenize words\n",
        "df1['tokens'] = df1['Tweet'].apply(tokenizeWords)\n",
        "\n",
        "df1.head()"
      ],
      "execution_count": 5,
      "outputs": [
        {
          "output_type": "stream",
          "text": [
            "[nltk_data] Downloading package punkt to /root/nltk_data...\n",
            "[nltk_data]   Package punkt is already up-to-date!\n"
          ],
          "name": "stdout"
        },
        {
          "output_type": "execute_result",
          "data": {
            "text/html": [
              "<div>\n",
              "<style scoped>\n",
              "    .dataframe tbody tr th:only-of-type {\n",
              "        vertical-align: middle;\n",
              "    }\n",
              "\n",
              "    .dataframe tbody tr th {\n",
              "        vertical-align: top;\n",
              "    }\n",
              "\n",
              "    .dataframe thead th {\n",
              "        text-align: right;\n",
              "    }\n",
              "</style>\n",
              "<table border=\"1\" class=\"dataframe\">\n",
              "  <thead>\n",
              "    <tr style=\"text-align: right;\">\n",
              "      <th></th>\n",
              "      <th>Label</th>\n",
              "      <th>Tweet</th>\n",
              "      <th>tokens</th>\n",
              "    </tr>\n",
              "  </thead>\n",
              "  <tbody>\n",
              "    <tr>\n",
              "      <th>0</th>\n",
              "      <td>Non_HS</td>\n",
              "      <td>RT @spardaxyz: Fadli Zon Minta Mendagri Segera...</td>\n",
              "      <td>[RT, @spardaxyz:, Fadli, Zon, Minta, Mendagri,...</td>\n",
              "    </tr>\n",
              "    <tr>\n",
              "      <th>1</th>\n",
              "      <td>Non_HS</td>\n",
              "      <td>RT @baguscondromowo: Mereka terus melukai aksi...</td>\n",
              "      <td>[RT, @baguscondromowo:, Mereka, terus, melukai...</td>\n",
              "    </tr>\n",
              "    <tr>\n",
              "      <th>2</th>\n",
              "      <td>Non_HS</td>\n",
              "      <td>Sylvi: bagaimana gurbernur melakukan kekerasan...</td>\n",
              "      <td>[Sylvi, :, bagaimana, gurbernur, melakukan, ke...</td>\n",
              "    </tr>\n",
              "    <tr>\n",
              "      <th>3</th>\n",
              "      <td>Non_HS</td>\n",
              "      <td>Ahmad Dhani Tak Puas Debat Pilkada, Masalah Ja...</td>\n",
              "      <td>[Ahmad, Dhani, Tak, Puas, Debat, Pilkada, ,, M...</td>\n",
              "    </tr>\n",
              "    <tr>\n",
              "      <th>4</th>\n",
              "      <td>Non_HS</td>\n",
              "      <td>RT @lisdaulay28: Waspada KTP palsu.....kawal P...</td>\n",
              "      <td>[RT, @lisdaulay28:, Waspada, KTP, palsu, ........</td>\n",
              "    </tr>\n",
              "  </tbody>\n",
              "</table>\n",
              "</div>"
            ],
            "text/plain": [
              "    Label  ...                                             tokens\n",
              "0  Non_HS  ...  [RT, @spardaxyz:, Fadli, Zon, Minta, Mendagri,...\n",
              "1  Non_HS  ...  [RT, @baguscondromowo:, Mereka, terus, melukai...\n",
              "2  Non_HS  ...  [Sylvi, :, bagaimana, gurbernur, melakukan, ke...\n",
              "3  Non_HS  ...  [Ahmad, Dhani, Tak, Puas, Debat, Pilkada, ,, M...\n",
              "4  Non_HS  ...  [RT, @lisdaulay28:, Waspada, KTP, palsu, ........\n",
              "\n",
              "[5 rows x 3 columns]"
            ]
          },
          "metadata": {
            "tags": []
          },
          "execution_count": 5
        }
      ]
    },
    {
      "cell_type": "markdown",
      "metadata": {
        "id": "Av9cjvNStWmz"
      },
      "source": [
        "### Remove mentions, URLs, special chars, and number\n",
        "\n",
        "This second step is a special one, because in most case you are not really required to do this. But in this case since our data is from Twitter we will have lot of @mention, #hashtags, URLs, and other things that will just clutter our data and won't help it's performance.\n",
        "\n",
        "|  | Result |\n",
        "|-|-|\n",
        "| Tokenize | ['@JohnDoe', 'Hai', 'apa', 'kabar', 'aku', 'baru', 'bergabung', 'ke', '#twitter', 'nih'] |\n",
        "| Remove Useless Text | ['Hai', 'apa', 'kabar', 'aku', 'baru', 'bergabung', 'ke', 'nih'] |\n",
        "\n",
        "Below I wrote a new function involving the re libraries to extract pattern from text using regular expression, which is really useful to remove the aforementioned elements."
      ]
    },
    {
      "cell_type": "code",
      "metadata": {
        "colab": {
          "base_uri": "https://localhost:8080/",
          "height": 293
        },
        "id": "_K5hD-2wtbi5",
        "outputId": "848507b8-5e4c-4af0-8325-d1dc2440e4d1"
      },
      "source": [
        "import re\n",
        "\n",
        "def removeUselessText(tokens):\n",
        "    new_tokens = []\n",
        "    for t in tokens:\n",
        "        # Remove hashtag\n",
        "        if not t.startswith('#'):\n",
        "            # Remove leading & trailing whitespace\n",
        "            t = t.strip()\n",
        "            \n",
        "            # Remove mention\n",
        "            t = re.sub('@[^\\s]+', '', t)\n",
        "\n",
        "            # Remove urls\n",
        "            t = re.sub(r'\\\\/', '/', t) # replace escaped character\n",
        "            t = re.sub(r'(https?://\\S+)', '', t) # remove urls\n",
        "\n",
        "            # Remove special character and number\n",
        "            t = re.sub('[^a-zA-Z\\s]', '', t)\n",
        "\n",
        "            new_tokens.append(t)\n",
        "\n",
        "    return [token for token in new_tokens if token]\n",
        "\n",
        "df1['no_useless'] = df1['tokens'].apply(removeUselessText)\n",
        "\n",
        "df1.head()"
      ],
      "execution_count": 6,
      "outputs": [
        {
          "output_type": "execute_result",
          "data": {
            "text/html": [
              "<div>\n",
              "<style scoped>\n",
              "    .dataframe tbody tr th:only-of-type {\n",
              "        vertical-align: middle;\n",
              "    }\n",
              "\n",
              "    .dataframe tbody tr th {\n",
              "        vertical-align: top;\n",
              "    }\n",
              "\n",
              "    .dataframe thead th {\n",
              "        text-align: right;\n",
              "    }\n",
              "</style>\n",
              "<table border=\"1\" class=\"dataframe\">\n",
              "  <thead>\n",
              "    <tr style=\"text-align: right;\">\n",
              "      <th></th>\n",
              "      <th>Label</th>\n",
              "      <th>Tweet</th>\n",
              "      <th>tokens</th>\n",
              "      <th>no_useless</th>\n",
              "    </tr>\n",
              "  </thead>\n",
              "  <tbody>\n",
              "    <tr>\n",
              "      <th>0</th>\n",
              "      <td>Non_HS</td>\n",
              "      <td>RT @spardaxyz: Fadli Zon Minta Mendagri Segera...</td>\n",
              "      <td>[RT, @spardaxyz:, Fadli, Zon, Minta, Mendagri,...</td>\n",
              "      <td>[RT, Fadli, Zon, Minta, Mendagri, Segera, Meno...</td>\n",
              "    </tr>\n",
              "    <tr>\n",
              "      <th>1</th>\n",
              "      <td>Non_HS</td>\n",
              "      <td>RT @baguscondromowo: Mereka terus melukai aksi...</td>\n",
              "      <td>[RT, @baguscondromowo:, Mereka, terus, melukai...</td>\n",
              "      <td>[RT, Mereka, terus, melukai, aksi, dalam, rang...</td>\n",
              "    </tr>\n",
              "    <tr>\n",
              "      <th>2</th>\n",
              "      <td>Non_HS</td>\n",
              "      <td>Sylvi: bagaimana gurbernur melakukan kekerasan...</td>\n",
              "      <td>[Sylvi, :, bagaimana, gurbernur, melakukan, ke...</td>\n",
              "      <td>[Sylvi, bagaimana, gurbernur, melakukan, keker...</td>\n",
              "    </tr>\n",
              "    <tr>\n",
              "      <th>3</th>\n",
              "      <td>Non_HS</td>\n",
              "      <td>Ahmad Dhani Tak Puas Debat Pilkada, Masalah Ja...</td>\n",
              "      <td>[Ahmad, Dhani, Tak, Puas, Debat, Pilkada, ,, M...</td>\n",
              "      <td>[Ahmad, Dhani, Tak, Puas, Debat, Pilkada, Masa...</td>\n",
              "    </tr>\n",
              "    <tr>\n",
              "      <th>4</th>\n",
              "      <td>Non_HS</td>\n",
              "      <td>RT @lisdaulay28: Waspada KTP palsu.....kawal P...</td>\n",
              "      <td>[RT, @lisdaulay28:, Waspada, KTP, palsu, ........</td>\n",
              "      <td>[RT, Waspada, KTP, palsu, kawal, PILKADA, http...</td>\n",
              "    </tr>\n",
              "  </tbody>\n",
              "</table>\n",
              "</div>"
            ],
            "text/plain": [
              "    Label  ...                                         no_useless\n",
              "0  Non_HS  ...  [RT, Fadli, Zon, Minta, Mendagri, Segera, Meno...\n",
              "1  Non_HS  ...  [RT, Mereka, terus, melukai, aksi, dalam, rang...\n",
              "2  Non_HS  ...  [Sylvi, bagaimana, gurbernur, melakukan, keker...\n",
              "3  Non_HS  ...  [Ahmad, Dhani, Tak, Puas, Debat, Pilkada, Masa...\n",
              "4  Non_HS  ...  [RT, Waspada, KTP, palsu, kawal, PILKADA, http...\n",
              "\n",
              "[5 rows x 4 columns]"
            ]
          },
          "metadata": {
            "tags": []
          },
          "execution_count": 6
        }
      ]
    },
    {
      "cell_type": "markdown",
      "metadata": {
        "id": "Iv3RapG7jSDA"
      },
      "source": [
        "### Stemming\n",
        "\n",
        "Onto the third step, we will stem all word into it's base form by removing the prefix and suffix of the words.\n",
        "\n",
        "|  | Result |\n",
        "|-|-|\n",
        "| Remove Useless Text | ['Hai', 'apa', 'kabar', 'aku', 'baru', 'bergabung', 'ke', 'nih'] |\n",
        "| Stemming | ['Hai', 'apa', 'kabar', 'aku', 'baru', 'gabung', 'ke', 'nih'] |\n",
        "\n",
        "In this step I will be using Bahasa Indonesia stemmer from Sastrawi libraries.\n",
        "\n",
        "*Note: this step may take a few minutes and is a known performance problem from Sastrawi*"
      ]
    },
    {
      "cell_type": "code",
      "metadata": {
        "colab": {
          "base_uri": "https://localhost:8080/",
          "height": 328
        },
        "id": "IND-DF4QjUYM",
        "outputId": "da2b83df-471a-4b6d-e64f-deb59600dab4"
      },
      "source": [
        "!pip install Sastrawi\n",
        "from Sastrawi.Stemmer.StemmerFactory import StemmerFactory\n",
        "\n",
        "def stemmSentence(tokens):\n",
        "    # Initiate Sastrawi stemmer\n",
        "    factory = StemmerFactory()\n",
        "    stemmer = factory.create_stemmer()\n",
        "\n",
        "    return [stemmer.stem(t) for t in tokens]\n",
        "\n",
        "df1['stemmed'] = df1['no_useless'].apply(stemmSentence)\n",
        "\n",
        "df1.head()"
      ],
      "execution_count": 7,
      "outputs": [
        {
          "output_type": "stream",
          "text": [
            "Requirement already satisfied: Sastrawi in /usr/local/lib/python3.6/dist-packages (1.0.1)\n"
          ],
          "name": "stdout"
        },
        {
          "output_type": "execute_result",
          "data": {
            "text/html": [
              "<div>\n",
              "<style scoped>\n",
              "    .dataframe tbody tr th:only-of-type {\n",
              "        vertical-align: middle;\n",
              "    }\n",
              "\n",
              "    .dataframe tbody tr th {\n",
              "        vertical-align: top;\n",
              "    }\n",
              "\n",
              "    .dataframe thead th {\n",
              "        text-align: right;\n",
              "    }\n",
              "</style>\n",
              "<table border=\"1\" class=\"dataframe\">\n",
              "  <thead>\n",
              "    <tr style=\"text-align: right;\">\n",
              "      <th></th>\n",
              "      <th>Label</th>\n",
              "      <th>Tweet</th>\n",
              "      <th>tokens</th>\n",
              "      <th>no_useless</th>\n",
              "      <th>stemmed</th>\n",
              "    </tr>\n",
              "  </thead>\n",
              "  <tbody>\n",
              "    <tr>\n",
              "      <th>0</th>\n",
              "      <td>Non_HS</td>\n",
              "      <td>RT @spardaxyz: Fadli Zon Minta Mendagri Segera...</td>\n",
              "      <td>[RT, @spardaxyz:, Fadli, Zon, Minta, Mendagri,...</td>\n",
              "      <td>[RT, Fadli, Zon, Minta, Mendagri, Segera, Meno...</td>\n",
              "      <td>[rt, fadli, zon, minta, mendagri, segera, nona...</td>\n",
              "    </tr>\n",
              "    <tr>\n",
              "      <th>1</th>\n",
              "      <td>Non_HS</td>\n",
              "      <td>RT @baguscondromowo: Mereka terus melukai aksi...</td>\n",
              "      <td>[RT, @baguscondromowo:, Mereka, terus, melukai...</td>\n",
              "      <td>[RT, Mereka, terus, melukai, aksi, dalam, rang...</td>\n",
              "      <td>[rt, mereka, terus, luka, aksi, dalam, rangka,...</td>\n",
              "    </tr>\n",
              "    <tr>\n",
              "      <th>2</th>\n",
              "      <td>Non_HS</td>\n",
              "      <td>Sylvi: bagaimana gurbernur melakukan kekerasan...</td>\n",
              "      <td>[Sylvi, :, bagaimana, gurbernur, melakukan, ke...</td>\n",
              "      <td>[Sylvi, bagaimana, gurbernur, melakukan, keker...</td>\n",
              "      <td>[sylvi, bagaimana, gurbernur, laku, keras, per...</td>\n",
              "    </tr>\n",
              "    <tr>\n",
              "      <th>3</th>\n",
              "      <td>Non_HS</td>\n",
              "      <td>Ahmad Dhani Tak Puas Debat Pilkada, Masalah Ja...</td>\n",
              "      <td>[Ahmad, Dhani, Tak, Puas, Debat, Pilkada, ,, M...</td>\n",
              "      <td>[Ahmad, Dhani, Tak, Puas, Debat, Pilkada, Masa...</td>\n",
              "      <td>[ahmad, dhani, tak, puas, debat, pilkada, masa...</td>\n",
              "    </tr>\n",
              "    <tr>\n",
              "      <th>4</th>\n",
              "      <td>Non_HS</td>\n",
              "      <td>RT @lisdaulay28: Waspada KTP palsu.....kawal P...</td>\n",
              "      <td>[RT, @lisdaulay28:, Waspada, KTP, palsu, ........</td>\n",
              "      <td>[RT, Waspada, KTP, palsu, kawal, PILKADA, http...</td>\n",
              "      <td>[rt, waspada, ktp, palsu, kawal, pilkada, http...</td>\n",
              "    </tr>\n",
              "  </tbody>\n",
              "</table>\n",
              "</div>"
            ],
            "text/plain": [
              "    Label  ...                                            stemmed\n",
              "0  Non_HS  ...  [rt, fadli, zon, minta, mendagri, segera, nona...\n",
              "1  Non_HS  ...  [rt, mereka, terus, luka, aksi, dalam, rangka,...\n",
              "2  Non_HS  ...  [sylvi, bagaimana, gurbernur, laku, keras, per...\n",
              "3  Non_HS  ...  [ahmad, dhani, tak, puas, debat, pilkada, masa...\n",
              "4  Non_HS  ...  [rt, waspada, ktp, palsu, kawal, pilkada, http...\n",
              "\n",
              "[5 rows x 5 columns]"
            ]
          },
          "metadata": {
            "tags": []
          },
          "execution_count": 7
        }
      ]
    },
    {
      "cell_type": "markdown",
      "metadata": {
        "id": "3WtDl5HOjHHw"
      },
      "source": [
        "### Replace Slang Words\n",
        "\n",
        "One other thing to take note of when dealing with text data in Bahasa Indonesia is slang words, Indonesian people loves to use slang, especially on the internet. Unfortunately, I am not able to found any ready-to-use Python libraries to help with this problem. \n",
        "\n",
        "Instead what I will do is use the slangword dictionary from [dhitology's GitHub repos](https://github.com/dhitology) and convert it to Python dictionaries to make replacing our data easier. Granted, this is not a really good solution since there is still some slang words in our dataset that's not included in the dictionary, but (personally) I think it's good enough.\n",
        "\n",
        "If you are interested in learning a better approach to solve this problem here is a good [article](https://medium.com/kata-engineering/mengubah-bahasa-indonesia-informal-menjadi-baku-menggunakan-kecerdasan-buatan-4c6317b00ea5) about a new methodology to transform text from informal Bahasa Indonesia to a more formal form."
      ]
    },
    {
      "cell_type": "code",
      "metadata": {
        "colab": {
          "base_uri": "https://localhost:8080/",
          "height": 380
        },
        "id": "4o7YMDcMd32j",
        "outputId": "1e9904df-16f6-4106-9523-3c5faa8eb9e5"
      },
      "source": [
        "# Load slang data\n",
        "slang_df = pd.read_csv('https://raw.githubusercontent.com/dhitology/sma-r/master/data/support/Slangword.csv')\n",
        "\n",
        "# Remove trailing whitespace\n",
        "slang_df['old'] = slang_df['old'].apply(lambda x: x.strip())\n",
        "slang_df['new'] = slang_df['new'].apply(lambda x: x.strip())\n",
        "\n",
        "# Transform into key value paris in a dict\n",
        "slang_dict = {}\n",
        "for idx, row in slang_df.iterrows():\n",
        "    slang_dict.update({row['old']: row['new']})\n",
        "\n",
        "def replaceSlang(tokens):\n",
        "    # iterate through tokens\n",
        "    for i, word in enumerate(tokens):\n",
        "        # check if token is in slang dictionary\n",
        "        try:\n",
        "            tokens[i] = slang_dict[word]\n",
        "        # if token is not slang pass\n",
        "        except KeyError:\n",
        "            pass\n",
        "    return tokens\n",
        "\n",
        "df1['no_slang'] = df1['stemmed'].apply(replaceSlang)\n",
        "\n",
        "df1.head()"
      ],
      "execution_count": 8,
      "outputs": [
        {
          "output_type": "execute_result",
          "data": {
            "text/html": [
              "<div>\n",
              "<style scoped>\n",
              "    .dataframe tbody tr th:only-of-type {\n",
              "        vertical-align: middle;\n",
              "    }\n",
              "\n",
              "    .dataframe tbody tr th {\n",
              "        vertical-align: top;\n",
              "    }\n",
              "\n",
              "    .dataframe thead th {\n",
              "        text-align: right;\n",
              "    }\n",
              "</style>\n",
              "<table border=\"1\" class=\"dataframe\">\n",
              "  <thead>\n",
              "    <tr style=\"text-align: right;\">\n",
              "      <th></th>\n",
              "      <th>Label</th>\n",
              "      <th>Tweet</th>\n",
              "      <th>tokens</th>\n",
              "      <th>no_useless</th>\n",
              "      <th>stemmed</th>\n",
              "      <th>no_slang</th>\n",
              "    </tr>\n",
              "  </thead>\n",
              "  <tbody>\n",
              "    <tr>\n",
              "      <th>0</th>\n",
              "      <td>Non_HS</td>\n",
              "      <td>RT @spardaxyz: Fadli Zon Minta Mendagri Segera...</td>\n",
              "      <td>[RT, @spardaxyz:, Fadli, Zon, Minta, Mendagri,...</td>\n",
              "      <td>[RT, Fadli, Zon, Minta, Mendagri, Segera, Meno...</td>\n",
              "      <td>[rt, fadli, zon, minta, mendagri, segera, nona...</td>\n",
              "      <td>[rt, fadli, zon, minta, mendagri, segera, nona...</td>\n",
              "    </tr>\n",
              "    <tr>\n",
              "      <th>1</th>\n",
              "      <td>Non_HS</td>\n",
              "      <td>RT @baguscondromowo: Mereka terus melukai aksi...</td>\n",
              "      <td>[RT, @baguscondromowo:, Mereka, terus, melukai...</td>\n",
              "      <td>[RT, Mereka, terus, melukai, aksi, dalam, rang...</td>\n",
              "      <td>[rt, mereka, terus, luka, aksi, dalam, rangka,...</td>\n",
              "      <td>[rt, mereka, terus, luka, aksi, dalam, rangka,...</td>\n",
              "    </tr>\n",
              "    <tr>\n",
              "      <th>2</th>\n",
              "      <td>Non_HS</td>\n",
              "      <td>Sylvi: bagaimana gurbernur melakukan kekerasan...</td>\n",
              "      <td>[Sylvi, :, bagaimana, gurbernur, melakukan, ke...</td>\n",
              "      <td>[Sylvi, bagaimana, gurbernur, melakukan, keker...</td>\n",
              "      <td>[sylvi, bagaimana, gurbernur, laku, keras, per...</td>\n",
              "      <td>[sylvi, bagaimana, gurbernur, laku, keras, per...</td>\n",
              "    </tr>\n",
              "    <tr>\n",
              "      <th>3</th>\n",
              "      <td>Non_HS</td>\n",
              "      <td>Ahmad Dhani Tak Puas Debat Pilkada, Masalah Ja...</td>\n",
              "      <td>[Ahmad, Dhani, Tak, Puas, Debat, Pilkada, ,, M...</td>\n",
              "      <td>[Ahmad, Dhani, Tak, Puas, Debat, Pilkada, Masa...</td>\n",
              "      <td>[ahmad, dhani, tak, puas, debat, pilkada, masa...</td>\n",
              "      <td>[ahmad, dhani, tak, puas, debat, pilkada, masa...</td>\n",
              "    </tr>\n",
              "    <tr>\n",
              "      <th>4</th>\n",
              "      <td>Non_HS</td>\n",
              "      <td>RT @lisdaulay28: Waspada KTP palsu.....kawal P...</td>\n",
              "      <td>[RT, @lisdaulay28:, Waspada, KTP, palsu, ........</td>\n",
              "      <td>[RT, Waspada, KTP, palsu, kawal, PILKADA, http...</td>\n",
              "      <td>[rt, waspada, ktp, palsu, kawal, pilkada, http...</td>\n",
              "      <td>[rt, waspada, ktp, palsu, kawal, pilkada, http...</td>\n",
              "    </tr>\n",
              "  </tbody>\n",
              "</table>\n",
              "</div>"
            ],
            "text/plain": [
              "    Label  ...                                           no_slang\n",
              "0  Non_HS  ...  [rt, fadli, zon, minta, mendagri, segera, nona...\n",
              "1  Non_HS  ...  [rt, mereka, terus, luka, aksi, dalam, rangka,...\n",
              "2  Non_HS  ...  [sylvi, bagaimana, gurbernur, laku, keras, per...\n",
              "3  Non_HS  ...  [ahmad, dhani, tak, puas, debat, pilkada, masa...\n",
              "4  Non_HS  ...  [rt, waspada, ktp, palsu, kawal, pilkada, http...\n",
              "\n",
              "[5 rows x 6 columns]"
            ]
          },
          "metadata": {
            "tags": []
          },
          "execution_count": 8
        }
      ]
    },
    {
      "cell_type": "markdown",
      "metadata": {
        "id": "sKq88OqcvKTn"
      },
      "source": [
        "### Remove Stop Words\n",
        "\n",
        "For the last step of our text cleaning we will remove stop words (meaningless word) from our data. I will use the Bahasa Indonesia stop words list provided in the spacy libraries as the reference on which word to remove from our data. In this step I will also remove any word that's less than 3 characters long in order to trim our data and increase our training speed. "
      ]
    },
    {
      "cell_type": "code",
      "metadata": {
        "colab": {
          "base_uri": "https://localhost:8080/",
          "height": 432
        },
        "id": "bTJqjhq7vQNC",
        "outputId": "bc5ddb62-fb6a-4518-8133-0cfcce1a335d"
      },
      "source": [
        "def removeStopWords(tokens, min_len=3):\n",
        "    from spacy.lang.id.stop_words import STOP_WORDS\n",
        "\n",
        "    return [t for t in tokens if t not in STOP_WORDS and len(t)>min_len]\n",
        "\n",
        "df1['no_stop'] = df1['no_slang'].apply(removeStopWords)\n",
        "\n",
        "df1.head()"
      ],
      "execution_count": 9,
      "outputs": [
        {
          "output_type": "execute_result",
          "data": {
            "text/html": [
              "<div>\n",
              "<style scoped>\n",
              "    .dataframe tbody tr th:only-of-type {\n",
              "        vertical-align: middle;\n",
              "    }\n",
              "\n",
              "    .dataframe tbody tr th {\n",
              "        vertical-align: top;\n",
              "    }\n",
              "\n",
              "    .dataframe thead th {\n",
              "        text-align: right;\n",
              "    }\n",
              "</style>\n",
              "<table border=\"1\" class=\"dataframe\">\n",
              "  <thead>\n",
              "    <tr style=\"text-align: right;\">\n",
              "      <th></th>\n",
              "      <th>Label</th>\n",
              "      <th>Tweet</th>\n",
              "      <th>tokens</th>\n",
              "      <th>no_useless</th>\n",
              "      <th>stemmed</th>\n",
              "      <th>no_slang</th>\n",
              "      <th>no_stop</th>\n",
              "    </tr>\n",
              "  </thead>\n",
              "  <tbody>\n",
              "    <tr>\n",
              "      <th>0</th>\n",
              "      <td>Non_HS</td>\n",
              "      <td>RT @spardaxyz: Fadli Zon Minta Mendagri Segera...</td>\n",
              "      <td>[RT, @spardaxyz:, Fadli, Zon, Minta, Mendagri,...</td>\n",
              "      <td>[RT, Fadli, Zon, Minta, Mendagri, Segera, Meno...</td>\n",
              "      <td>[rt, fadli, zon, minta, mendagri, segera, nona...</td>\n",
              "      <td>[rt, fadli, zon, minta, mendagri, segera, nona...</td>\n",
              "      <td>[fadli, mendagri, nonaktif, ahok, gubernur, ht...</td>\n",
              "    </tr>\n",
              "    <tr>\n",
              "      <th>1</th>\n",
              "      <td>Non_HS</td>\n",
              "      <td>RT @baguscondromowo: Mereka terus melukai aksi...</td>\n",
              "      <td>[RT, @baguscondromowo:, Mereka, terus, melukai...</td>\n",
              "      <td>[RT, Mereka, terus, melukai, aksi, dalam, rang...</td>\n",
              "      <td>[rt, mereka, terus, luka, aksi, dalam, rangka,...</td>\n",
              "      <td>[rt, mereka, terus, luka, aksi, dalam, rangka,...</td>\n",
              "      <td>[luka, aksi, rangka, penjara, ahok, ahok, gaga...</td>\n",
              "    </tr>\n",
              "    <tr>\n",
              "      <th>2</th>\n",
              "      <td>Non_HS</td>\n",
              "      <td>Sylvi: bagaimana gurbernur melakukan kekerasan...</td>\n",
              "      <td>[Sylvi, :, bagaimana, gurbernur, melakukan, ke...</td>\n",
              "      <td>[Sylvi, bagaimana, gurbernur, melakukan, keker...</td>\n",
              "      <td>[sylvi, bagaimana, gurbernur, laku, keras, per...</td>\n",
              "      <td>[sylvi, bagaimana, gurbernur, laku, keras, per...</td>\n",
              "      <td>[sylvi, gurbernur, laku, keras, perempuan, buk...</td>\n",
              "    </tr>\n",
              "    <tr>\n",
              "      <th>3</th>\n",
              "      <td>Non_HS</td>\n",
              "      <td>Ahmad Dhani Tak Puas Debat Pilkada, Masalah Ja...</td>\n",
              "      <td>[Ahmad, Dhani, Tak, Puas, Debat, Pilkada, ,, M...</td>\n",
              "      <td>[Ahmad, Dhani, Tak, Puas, Debat, Pilkada, Masa...</td>\n",
              "      <td>[ahmad, dhani, tak, puas, debat, pilkada, masa...</td>\n",
              "      <td>[ahmad, dhani, tak, puas, debat, pilkada, masa...</td>\n",
              "      <td>[ahmad, dhani, puas, debat, pilkada, jalan, be...</td>\n",
              "    </tr>\n",
              "    <tr>\n",
              "      <th>4</th>\n",
              "      <td>Non_HS</td>\n",
              "      <td>RT @lisdaulay28: Waspada KTP palsu.....kawal P...</td>\n",
              "      <td>[RT, @lisdaulay28:, Waspada, KTP, palsu, ........</td>\n",
              "      <td>[RT, Waspada, KTP, palsu, kawal, PILKADA, http...</td>\n",
              "      <td>[rt, waspada, ktp, palsu, kawal, pilkada, http...</td>\n",
              "      <td>[rt, waspada, ktp, palsu, kawal, pilkada, http...</td>\n",
              "      <td>[waspada, palsu, kawal, pilkada, https, tcoooo...</td>\n",
              "    </tr>\n",
              "  </tbody>\n",
              "</table>\n",
              "</div>"
            ],
            "text/plain": [
              "    Label  ...                                            no_stop\n",
              "0  Non_HS  ...  [fadli, mendagri, nonaktif, ahok, gubernur, ht...\n",
              "1  Non_HS  ...  [luka, aksi, rangka, penjara, ahok, ahok, gaga...\n",
              "2  Non_HS  ...  [sylvi, gurbernur, laku, keras, perempuan, buk...\n",
              "3  Non_HS  ...  [ahmad, dhani, puas, debat, pilkada, jalan, be...\n",
              "4  Non_HS  ...  [waspada, palsu, kawal, pilkada, https, tcoooo...\n",
              "\n",
              "[5 rows x 7 columns]"
            ]
          },
          "metadata": {
            "tags": []
          },
          "execution_count": 9
        }
      ]
    },
    {
      "cell_type": "markdown",
      "metadata": {
        "id": "MMMqTjWXwDtQ"
      },
      "source": [
        "## Encoding Target Value\n",
        "\n",
        "The final step of our text cleaning is to join together our text data into a single string instead a list of string which later will be fitted into a TFIDF vectorizer. In this code cell we will also encode our label into a numeric value, 1 if it's a hate speech, and 0 if it is not a hate speech."
      ]
    },
    {
      "cell_type": "code",
      "metadata": {
        "colab": {
          "base_uri": "https://localhost:8080/",
          "height": 536
        },
        "id": "QilQzbDTYhjF",
        "outputId": "26944812-fbe5-42c4-832c-09c2ce15b688"
      },
      "source": [
        "# Combine cleaned text into one string\n",
        "df1['ready'] = df1['no_stop'].apply(lambda x: ' '.join(x))\n",
        "\n",
        "# Encode target labels\n",
        "df1['Label'] = df['Label'].apply(lambda x: 1 if x == 'HS' else 0)\n",
        "\n",
        "df1.head()"
      ],
      "execution_count": 10,
      "outputs": [
        {
          "output_type": "execute_result",
          "data": {
            "text/html": [
              "<div>\n",
              "<style scoped>\n",
              "    .dataframe tbody tr th:only-of-type {\n",
              "        vertical-align: middle;\n",
              "    }\n",
              "\n",
              "    .dataframe tbody tr th {\n",
              "        vertical-align: top;\n",
              "    }\n",
              "\n",
              "    .dataframe thead th {\n",
              "        text-align: right;\n",
              "    }\n",
              "</style>\n",
              "<table border=\"1\" class=\"dataframe\">\n",
              "  <thead>\n",
              "    <tr style=\"text-align: right;\">\n",
              "      <th></th>\n",
              "      <th>Label</th>\n",
              "      <th>Tweet</th>\n",
              "      <th>tokens</th>\n",
              "      <th>no_useless</th>\n",
              "      <th>stemmed</th>\n",
              "      <th>no_slang</th>\n",
              "      <th>no_stop</th>\n",
              "      <th>ready</th>\n",
              "    </tr>\n",
              "  </thead>\n",
              "  <tbody>\n",
              "    <tr>\n",
              "      <th>0</th>\n",
              "      <td>0</td>\n",
              "      <td>RT @spardaxyz: Fadli Zon Minta Mendagri Segera...</td>\n",
              "      <td>[RT, @spardaxyz:, Fadli, Zon, Minta, Mendagri,...</td>\n",
              "      <td>[RT, Fadli, Zon, Minta, Mendagri, Segera, Meno...</td>\n",
              "      <td>[rt, fadli, zon, minta, mendagri, segera, nona...</td>\n",
              "      <td>[rt, fadli, zon, minta, mendagri, segera, nona...</td>\n",
              "      <td>[fadli, mendagri, nonaktif, ahok, gubernur, ht...</td>\n",
              "      <td>fadli mendagri nonaktif ahok gubernur https tc...</td>\n",
              "    </tr>\n",
              "    <tr>\n",
              "      <th>1</th>\n",
              "      <td>0</td>\n",
              "      <td>RT @baguscondromowo: Mereka terus melukai aksi...</td>\n",
              "      <td>[RT, @baguscondromowo:, Mereka, terus, melukai...</td>\n",
              "      <td>[RT, Mereka, terus, melukai, aksi, dalam, rang...</td>\n",
              "      <td>[rt, mereka, terus, luka, aksi, dalam, rangka,...</td>\n",
              "      <td>[rt, mereka, terus, luka, aksi, dalam, rangka,...</td>\n",
              "      <td>[luka, aksi, rangka, penjara, ahok, ahok, gaga...</td>\n",
              "      <td>luka aksi rangka penjara ahok ahok gagal pilkada</td>\n",
              "    </tr>\n",
              "    <tr>\n",
              "      <th>2</th>\n",
              "      <td>0</td>\n",
              "      <td>Sylvi: bagaimana gurbernur melakukan kekerasan...</td>\n",
              "      <td>[Sylvi, :, bagaimana, gurbernur, melakukan, ke...</td>\n",
              "      <td>[Sylvi, bagaimana, gurbernur, melakukan, keker...</td>\n",
              "      <td>[sylvi, bagaimana, gurbernur, laku, keras, per...</td>\n",
              "      <td>[sylvi, bagaimana, gurbernur, laku, keras, per...</td>\n",
              "      <td>[sylvi, gurbernur, laku, keras, perempuan, buk...</td>\n",
              "      <td>sylvi gurbernur laku keras perempuan bukti fot...</td>\n",
              "    </tr>\n",
              "    <tr>\n",
              "      <th>3</th>\n",
              "      <td>0</td>\n",
              "      <td>Ahmad Dhani Tak Puas Debat Pilkada, Masalah Ja...</td>\n",
              "      <td>[Ahmad, Dhani, Tak, Puas, Debat, Pilkada, ,, M...</td>\n",
              "      <td>[Ahmad, Dhani, Tak, Puas, Debat, Pilkada, Masa...</td>\n",
              "      <td>[ahmad, dhani, tak, puas, debat, pilkada, masa...</td>\n",
              "      <td>[ahmad, dhani, tak, puas, debat, pilkada, masa...</td>\n",
              "      <td>[ahmad, dhani, puas, debat, pilkada, jalan, be...</td>\n",
              "      <td>ahmad dhani puas debat pilkada jalan bekas htt...</td>\n",
              "    </tr>\n",
              "    <tr>\n",
              "      <th>4</th>\n",
              "      <td>0</td>\n",
              "      <td>RT @lisdaulay28: Waspada KTP palsu.....kawal P...</td>\n",
              "      <td>[RT, @lisdaulay28:, Waspada, KTP, palsu, ........</td>\n",
              "      <td>[RT, Waspada, KTP, palsu, kawal, PILKADA, http...</td>\n",
              "      <td>[rt, waspada, ktp, palsu, kawal, pilkada, http...</td>\n",
              "      <td>[rt, waspada, ktp, palsu, kawal, pilkada, http...</td>\n",
              "      <td>[waspada, palsu, kawal, pilkada, https, tcoooo...</td>\n",
              "      <td>waspada palsu kawal pilkada https tcooooerqvsm</td>\n",
              "    </tr>\n",
              "  </tbody>\n",
              "</table>\n",
              "</div>"
            ],
            "text/plain": [
              "   Label  ...                                              ready\n",
              "0      0  ...  fadli mendagri nonaktif ahok gubernur https tc...\n",
              "1      0  ...   luka aksi rangka penjara ahok ahok gagal pilkada\n",
              "2      0  ...  sylvi gurbernur laku keras perempuan bukti fot...\n",
              "3      0  ...  ahmad dhani puas debat pilkada jalan bekas htt...\n",
              "4      0  ...     waspada palsu kawal pilkada https tcooooerqvsm\n",
              "\n",
              "[5 rows x 8 columns]"
            ]
          },
          "metadata": {
            "tags": []
          },
          "execution_count": 10
        }
      ]
    },
    {
      "cell_type": "markdown",
      "metadata": {
        "id": "kIRC0jNKIEKM"
      },
      "source": [
        "## Splitting Dataset\n",
        "\n",
        "To finish up our pre-processing we will split our dataset into training data and testing data. Because we have a quite small dataset (about 700 rows), we will use 80% of our dataset as training set in order to give our model a little bit more data to learn from."
      ]
    },
    {
      "cell_type": "code",
      "metadata": {
        "id": "6JhjJ-WmIGFP",
        "colab": {
          "base_uri": "https://localhost:8080/"
        },
        "outputId": "4a3221c5-a52a-4b44-a703-a19369a7d7f1"
      },
      "source": [
        "from sklearn.model_selection import train_test_split\n",
        "\n",
        "X_train, X_test, y_train, y_test = train_test_split(df1['ready'], \n",
        "                                                    df1['Label'], \n",
        "                                                    random_state=0,\n",
        "                                                    train_size=0.8)\n",
        "\n",
        "print('Shape of X_train:', X_train.shape)\n",
        "print('Shape of X_test:', X_test.shape)"
      ],
      "execution_count": 11,
      "outputs": [
        {
          "output_type": "stream",
          "text": [
            "Shape of X_train: (570,)\n",
            "Shape of X_test: (143,)\n"
          ],
          "name": "stdout"
        }
      ]
    },
    {
      "cell_type": "markdown",
      "metadata": {
        "id": "4JrpOoYOxRnz"
      },
      "source": [
        "# Feature Extraction\n",
        "\n",
        "Going back to the earlier part of the notebook, remember how I said the unique challenge in text mining is how to transform our text data into something that can be understand by the computer? Well, we are finally going to deal with that problem here. There are some method available to transform our text data into a numerical data, such as:\n",
        "\n",
        "*   One Hot Encoding\n",
        "*   CountVectorizer\n",
        "*   TFIDF\n",
        "*   Word Embedding\n",
        "\n",
        "In this notebook I will use the TF-IDF vectorizer, because despite it being simpler than word embedding it can still give us a pretty good result.\n",
        "\n",
        "Other than just simply transforming our text into number there are also other features we can extract from our text, for example:\n",
        "\n",
        "*   How many words are in the text?\n",
        "*   How many character are in the text?\n",
        "*   How often non-digit character appears in the text?\n",
        "\n",
        "On this notebook I am going to stick with using our TF-IDF vector as the only feature, because from my earlier data exploration there is no notable difference of the characteristics listed above in this specific dataset. But it's always good idea to try to find out about those characteristics when you are dealing with your own data."
      ]
    },
    {
      "cell_type": "markdown",
      "metadata": {
        "id": "rPk5aAPr4wqP"
      },
      "source": [
        "## Text Vectorization\n",
        "\n",
        "To transform the text data I'm going to use the `TfidfVectorizer()` function from sklearn with the following parameters:\n",
        "\n",
        "*   min_df=2; only include words that appears in at least 2 tweets\n",
        "*   ngram_range=(1, 3); create a n-gram up to 3 words (trigram)\n",
        "\n",
        "`TfidfVectorizer()` also have some neat paramters such as tokenizer and stop_words that allow us to specify what tokenizer or stop_words list we want to use. But since we already pre-process the text on the previous step we won't be using those paramters.\n",
        "\n",
        "*Note: remember to ONLY fit our vectorizer into the training data to avoid data leak.*"
      ]
    },
    {
      "cell_type": "code",
      "metadata": {
        "id": "6XKOaYE-xU3B"
      },
      "source": [
        "from sklearn.feature_extraction.text import TfidfVectorizer\n",
        "\n",
        "# Fit the vectorizer into training data\n",
        "tfidf_vectorizer = TfidfVectorizer(min_df=2, ngram_range=(1, 3)).fit(X_train)\n",
        "\n",
        "# Transform the training & testing data using the vectorizer\n",
        "X_train_vectorized = tfidf_vectorizer.transform(X_train)\n",
        "X_test_vectorized = tfidf_vectorizer.transform(X_test)"
      ],
      "execution_count": 12,
      "outputs": []
    },
    {
      "cell_type": "markdown",
      "metadata": {
        "id": "mFGKfsRX4ypq"
      },
      "source": [
        "## Most Common vs. Important Words\n",
        "\n",
        "After calculating the TF-IDF vector of our data, let's take a look on the most common words (words that appears in a lot of tweets) and the most important words (words that frequently appears in single tweets). This step is important because the information can help us interpret our model later."
      ]
    },
    {
      "cell_type": "code",
      "metadata": {
        "colab": {
          "base_uri": "https://localhost:8080/"
        },
        "id": "uHqXe9MjyKP-",
        "outputId": "c1df2b0b-0e9a-44e7-e55b-805bf571a1df"
      },
      "source": [
        "feature_names = np.array(tfidf_vectorizer.get_feature_names())\n",
        "\n",
        "# Sort TFIDF by value\n",
        "max_tf_idfs = X_train_vectorized.max(0).toarray()[0] # Get largest tfidf values across all documents.\n",
        "sorted_tf_idxs = max_tf_idfs.argsort() # Sorted indices\n",
        "sorted_tf_idfs = max_tf_idfs[sorted_tf_idxs] # Sorted TFIDF values\n",
        "\n",
        "# feature_names doesn't need to be sorted! You just access it with a list of sorted indices!\n",
        "smallest_tf_idfs = pd.Series(sorted_tf_idfs[:10], index=feature_names[sorted_tf_idxs[:10]])                    \n",
        "largest_tf_idfs = pd.Series(sorted_tf_idfs[-10:][::-1], index=feature_names[sorted_tf_idxs[-10:][::-1]])\n",
        "\n",
        "print('Most common words:\\n', smallest_tf_idfs)\n",
        "print('\\n')\n",
        "print('Most important words:\\n', largest_tf_idfs)"
      ],
      "execution_count": 13,
      "outputs": [
        {
          "output_type": "stream",
          "text": [
            "Most common words:\n",
            " kelola jakarta           0.192791\n",
            "kliatan kuasa problem    0.192791\n",
            "tata                     0.192791\n",
            "kelola                   0.192791\n",
            "solusi tata kelola       0.192791\n",
            "solusi tata              0.192791\n",
            "debat ahok               0.192791\n",
            "debat ahok liat          0.192791\n",
            "problem                  0.192791\n",
            "angin kliatan            0.192791\n",
            "dtype: float64\n",
            "\n",
            "\n",
            "Most important words:\n",
            " bangkit    1.0\n",
            "mati       1.0\n",
            "silvy      1.0\n",
            "serang     1.0\n",
            "fakta      1.0\n",
            "gimana     1.0\n",
            "sylvi      1.0\n",
            "hoax       1.0\n",
            "kampung    1.0\n",
            "kasar      1.0\n",
            "dtype: float64\n"
          ],
          "name": "stdout"
        }
      ]
    },
    {
      "cell_type": "markdown",
      "metadata": {
        "id": "vBYgUpvPI5M0"
      },
      "source": [
        "# Modeling\n"
      ]
    },
    {
      "cell_type": "markdown",
      "metadata": {
        "id": "FKajNYts-Stx"
      },
      "source": [
        "## Building Model\n",
        "\n",
        "Gradient boosting classifiers are a group of machine learning algorithms that combine many weak learning models together to create a strong predictive model. Decision trees are usually used when doing gradient boosting. Gradient boosting models are becoming popular because of their effectiveness at classifying complex datasets.\n",
        "\n",
        "<div align='center'><img src='https://stackabuse.s3.amazonaws.com/media/gradient-boosting-classifiers-in-python-with-scikit-learn-3.png' height='200'></div>\n",
        "\n",
        "Gradient boosting systems have two other necessary parts: a weak learner and an additive component. Gradient boosting systems use decision trees as their weak learners. Regression trees are used for the weak learners, and these regression trees output real values. Because the outputs are real values, as new learners are added into the model the output of the regression trees can be added together to correct for errors in the predictions."
      ]
    },
    {
      "cell_type": "code",
      "metadata": {
        "id": "Q96Jfh2PY2Li"
      },
      "source": [
        "from xgboost import XGBClassifier\n",
        "\n",
        "xgb_clf = XGBClassifier()\n",
        "xgb_clf.fit(X_train_vectorized, y_train)\n",
        "\n",
        "# Predict to Test Data \n",
        "y_pred_xgb = xgb_clf.predict(X_test_vectorized)"
      ],
      "execution_count": 14,
      "outputs": []
    },
    {
      "cell_type": "markdown",
      "metadata": {
        "id": "ikx3CBJ6-W0y"
      },
      "source": [
        "## Model Evaluation\n",
        "\n",
        "To evaluate our model we will use the confusion matrix as our base for the evaluation.\n",
        "\n",
        "<div align='center'><img src='https://miro.medium.com/max/2102/1*fxiTNIgOyvAombPJx5KGeA.png' height='250'></div>\n",
        "where: TP = True Positive; FP = False Positive; TN = True Negative; FN = False Negative.\n",
        "\n",
        "We will use 6 metrics below to evaluate models:\n",
        "\n",
        "1. Accuracy: the proportion of true results among the total number of cases examined.\n",
        "<div align='center'>$Accuracy = \\frac{TP+TN}{TP+TN+FP+FN}$</div>\n",
        "2. Precision: used to calculate how much proportion of all data that was predicted positive **was** actually positive.\n",
        "<div align='center'>$Precision = \\frac{TP}{TP+FP}$</div>\n",
        "3. Recall: used to calculate how much proportion of actual positives is correctly classified.\n",
        "<div align='center'>$Recall = \\frac{TP}{TP+FN}$</div>\n",
        "4. F1 score: a number between 0 and 1 and is the harmonic mean of precision and recall.\n",
        "<div align='center'>$F1 = \\frac{2TP}{2TP+FP+FN}$</div>\n",
        "5. Cohen Kappa Score: Cohen's kappa measures the agreement between two raters who each classify N items into C mutually exclusive categories.\n",
        "<div align='center'>$\\kappa = \\frac{p_o-p_e}{1-p_e}$</div>\n",
        "    where $p_o$ is the empirical probability of agreement on the label assigned to any sample (the observed agreement ratio), and $p_e$ is the expected agreement when both annotators assign labels randomly. $p_e$ is estimated using a per-annotator empirical prior over the class labels.\n",
        "6. Area Under Curve (AUC): indicates how well the probabilities from the positive classes are separated from the negative classes"
      ]
    },
    {
      "cell_type": "code",
      "metadata": {
        "colab": {
          "base_uri": "https://localhost:8080/"
        },
        "id": "l77NHaP-ZJk8",
        "outputId": "0ce3e062-73d8-4974-b784-e38e2a029010"
      },
      "source": [
        "from sklearn import metrics\n",
        "\n",
        "# Calculate accuracy, precision, recall, f1-score, and kappa score\n",
        "xgb_acc = metrics.accuracy_score(y_test, y_pred_xgb)\n",
        "xgb_prec = metrics.precision_score(y_test, y_pred_xgb)\n",
        "xgb_rec = metrics.recall_score(y_test, y_pred_xgb)\n",
        "xgb_f1 = metrics.f1_score(y_test, y_pred_xgb)\n",
        "xgb_kappa = metrics.cohen_kappa_score(y_test, y_pred_xgb)\n",
        "\n",
        "print('Accuracy:', xgb_acc)\n",
        "print('Precision:', xgb_prec)\n",
        "print('Recall:', xgb_rec)\n",
        "print('F1 Score:', xgb_f1)\n",
        "print('Cohens Kappa Score:', xgb_kappa)\n",
        "\n",
        "# Calculate area under curve (AUC)\n",
        "y_pred_xgb_proba = xgb_clf.predict_proba(X_test_vectorized)[::,1]\n",
        "xgb_fpr, xgb_tpr, _ = metrics.roc_curve(y_test,  y_pred_xgb_proba)\n",
        "xgb_auc = metrics.roc_auc_score(y_test, y_pred_xgb_proba)\n",
        "print('Area Under Curve:', xgb_auc)\n",
        "\n",
        "# Display confussion matrix\n",
        "xgb_cm = metrics.confusion_matrix(y_test, y_pred_xgb)\n",
        "print('Confusion Matrix:\\n', xgb_cm)"
      ],
      "execution_count": 15,
      "outputs": [
        {
          "output_type": "stream",
          "text": [
            "Accuracy: 0.8111888111888111\n",
            "Precision: 0.8947368421052632\n",
            "Recall: 0.5964912280701754\n",
            "F1 Score: 0.7157894736842105\n",
            "Cohens Kappa Score: 0.5827299254295903\n",
            "Area Under Curve: 0.8587311301509588\n",
            "Confusion Matrix:\n",
            " [[82  4]\n",
            " [23 34]]\n"
          ],
          "name": "stdout"
        }
      ]
    },
    {
      "cell_type": "markdown",
      "metadata": {
        "id": "F9giH_TNPqSS"
      },
      "source": [
        "Our model got pretty good result especially in precision with score above 89%. But we are still lacking in the recall value only scoring 59%. Looking at the confusion matrix we can see that our model only miss 22 data, which is pretty good but not good enough."
      ]
    },
    {
      "cell_type": "markdown",
      "metadata": {
        "id": "ffBJzVwhJnES"
      },
      "source": [
        "# Model Optimization\n",
        "\n",
        "On the next part of this notebook, we will try to optimze our previous model by tuning the hyperparamters available from the scikit-learn library. After finding the optimal parameters we will then evaluate our new model by comparing it against our base line model before."
      ]
    },
    {
      "cell_type": "markdown",
      "metadata": {
        "id": "4ONqwVhnpvYe"
      },
      "source": [
        "## Tuning Hyperparameter with GridSearchCV\n",
        "\n",
        "We will use `GridSearchCV` functionality from sklearn to find the optimal parameter for our model. We will provide our baseline model (named `xgb_clf_grids`), scoring method (in our case we will use f1_micro because we want to take account of the imbalance in our dataset), and also various parameters value we want to try with our model. The `GridSearchCV` function will then iterate through each parameters combination to find the best scoring parameters.\n",
        "\n",
        "This function also allow us to use cross validation to train our model, where on each iteration our data will be splitted into 5 (the number are adjustable from the parameter) fold. The models then will be trained on 4/5 fold of the data leaving the final fold as validation data, this process will be repeated for 5 times until all of our folds are used as validation data.\n",
        "\n",
        "<div align='center'><img src='https://i.imgur.com/9k60cVA.png' height='200'></div>\n",
        "\n",
        "To see the result of which parameters combination works best we can acces the `best_params_` attribute from our grid search object.\n",
        "\n",
        "*Note: The more combination provided, the longer the process will take. Alternatively, you can also try `RandomizedSearchCV` to only randomly select specified number of parameters which can result in faster running time.*\n",
        "\n",
        "*Using the specified grids below will take Google Colab about 10 minutes to finish the job.*"
      ]
    },
    {
      "cell_type": "code",
      "metadata": {
        "id": "9JNuJ9SeWjsq",
        "colab": {
          "base_uri": "https://localhost:8080/"
        },
        "outputId": "6e6ac5c1-a2ea-46a7-dcbe-bf7f7cdcfb89"
      },
      "source": [
        "from sklearn.model_selection import GridSearchCV\n",
        "\n",
        "# Create the parameter grid based on the results of random search \n",
        "param_grid = {'learning_rate': [0.025, 0.05, 0.075, 0.1], #so called `eta` value\n",
        "              'max_depth': [6, 7, 8],\n",
        "              'min_child_weight': [i for i in range(1, 11, 2)],\n",
        "              'n_estimators': [100, 250, 500] #number of trees, change it to 1000 for better results\n",
        "}\n",
        "\n",
        "# Create a base model\n",
        "xgb_clf_grids = XGBClassifier()\n",
        "\n",
        "# Initiate the grid search model\n",
        "grid_search = GridSearchCV(estimator=xgb_clf_grids, param_grid=param_grid, scoring='recall',\n",
        "                           cv=5, n_jobs=-1, verbose=2)\n",
        "\n",
        "# Fit the grid search to the data\n",
        "grid_search.fit(X_train_vectorized, y_train)\n",
        "\n",
        "grid_search.best_params_"
      ],
      "execution_count": 16,
      "outputs": [
        {
          "output_type": "stream",
          "text": [
            "Fitting 5 folds for each of 180 candidates, totalling 900 fits\n"
          ],
          "name": "stdout"
        },
        {
          "output_type": "stream",
          "text": [
            "[Parallel(n_jobs=-1)]: Using backend LokyBackend with 2 concurrent workers.\n",
            "[Parallel(n_jobs=-1)]: Done  37 tasks      | elapsed:   21.1s\n",
            "[Parallel(n_jobs=-1)]: Done 158 tasks      | elapsed:  1.5min\n",
            "[Parallel(n_jobs=-1)]: Done 361 tasks      | elapsed:  3.4min\n",
            "[Parallel(n_jobs=-1)]: Done 644 tasks      | elapsed:  6.0min\n",
            "[Parallel(n_jobs=-1)]: Done 900 out of 900 | elapsed:  8.3min finished\n"
          ],
          "name": "stderr"
        },
        {
          "output_type": "execute_result",
          "data": {
            "text/plain": [
              "{'learning_rate': 0.075,\n",
              " 'max_depth': 8,\n",
              " 'min_child_weight': 1,\n",
              " 'n_estimators': 100}"
            ]
          },
          "metadata": {
            "tags": []
          },
          "execution_count": 16
        }
      ]
    },
    {
      "cell_type": "markdown",
      "metadata": {
        "id": "VtY5q3Dop_W_"
      },
      "source": [
        "## Evaluating Optimized Model\n",
        "\n",
        "After finding the best parameter for the model we can access the `best_estimator_` attribute of the GridSearchCV object to save our optimized model into variable called `best_grid`. We will calculate the 6 evaluation metrics to compare it with our base model on the next step."
      ]
    },
    {
      "cell_type": "code",
      "metadata": {
        "id": "A2tm9QvsnuwB"
      },
      "source": [
        "best_grid = grid_search.best_estimator_\n",
        "best_grid_pred = best_grid.predict(X_test_vectorized)\n",
        "\n",
        "# Calculate accuracy, precision, recall, f1-score, and kappa score\n",
        "best_grid_acc = metrics.accuracy_score(y_test, best_grid_pred)\n",
        "best_grid_prec = metrics.precision_score(y_test, best_grid_pred)\n",
        "best_grid_rec = metrics.recall_score(y_test, best_grid_pred)\n",
        "best_grid_f1 = metrics.f1_score(y_test, best_grid_pred)\n",
        "best_grid_kappa = metrics.cohen_kappa_score(y_test, best_grid_pred)\n",
        "\n",
        "# Calculate area under curve (AUC)\n",
        "best_grid_pred_proba = best_grid.predict_proba(X_test_vectorized)[::,1]\n",
        "best_grid_fpr, best_grid_tpr, _ = metrics.roc_curve(y_test,  best_grid_pred_proba)\n",
        "best_grid_auc = metrics.roc_auc_score(y_test, best_grid_pred_proba)"
      ],
      "execution_count": 17,
      "outputs": []
    },
    {
      "cell_type": "markdown",
      "metadata": {
        "id": "cvwaI0ysqCDU"
      },
      "source": [
        "## Model Comparison\n",
        "\n",
        "The code below will draw the two figures to compare the performance of our optimized model to our previous base line model. It will also print the change on each evaluation mterics to help us see if our optimized model work better than the original one."
      ]
    },
    {
      "cell_type": "code",
      "metadata": {
        "colab": {
          "base_uri": "https://localhost:8080/",
          "height": 609
        },
        "id": "Q4Q2O6Jyrme7",
        "outputId": "9755669c-209f-4ae7-f534-8db33c8bd11f"
      },
      "source": [
        "# Intitialize figure with two plots\n",
        "fig, (ax1, ax2) = plt.subplots(1, 2)\n",
        "fig.suptitle('Model Comparison', fontsize=16, fontweight='bold')\n",
        "fig.set_figheight(7)\n",
        "fig.set_figwidth(14)\n",
        "fig.set_facecolor('white')\n",
        "\n",
        "# First plot\n",
        "## set bar size\n",
        "barWidth = 0.2\n",
        "xgb_score = [xgb_acc, xgb_prec, xgb_rec, xgb_f1, xgb_kappa]\n",
        "best_grid_score = [best_grid_acc, best_grid_prec, best_grid_rec, best_grid_f1, best_grid_kappa]    \n",
        "\n",
        "## Set position of bar on X axis\n",
        "r1 = np.arange(len(xgb_score))\n",
        "r2 = [x + barWidth for x in r1]\n",
        "\n",
        "## Make the plot\n",
        "ax1.bar(r1, xgb_score, width=barWidth, edgecolor='white', label='xgb (Base Line)')\n",
        "ax1.bar(r2, best_grid_score, width=barWidth, edgecolor='white', label='xgb (Optimized)')\n",
        "\n",
        "## Add xticks on the middle of the group bars\n",
        "ax1.set_xlabel('Metrics', fontweight='bold')\n",
        "labels = ['Accuracy', 'Precision', 'Recall', 'F1', 'Kappa']\n",
        "ax1.set_xticks([r + (barWidth * 0.5) for r in range(len(xgb_score))], )\n",
        "ax1.set_xticklabels(labels)\n",
        "ax1.set_ylabel('Score', fontweight='bold')\n",
        "# ax1.set_ylim(0, 1)\n",
        "\n",
        "## Create legend & Show graphic\n",
        "ax1.set_title('Evaluation Metrics', fontsize=14, fontweight='bold')\n",
        "ax1.legend()\n",
        "\n",
        "# Second plot\n",
        "## Comparing ROC Curve\n",
        "ax2.plot(xgb_fpr, xgb_tpr, label='xgb (Base Line), auc = {:0.5f}'.format(xgb_auc))\n",
        "ax2.plot(best_grid_fpr, best_grid_tpr, label='xgb (Optimized), auc = {:0.5f}'.format(best_grid_auc))\n",
        "\n",
        "ax2.set_title('ROC Curve', fontsize=14, fontweight='bold')\n",
        "ax2.set_xlabel('False Positive Rate', fontweight='bold')\n",
        "ax2.set_ylabel('True Positive Rate', fontweight='bold')\n",
        "ax2.legend(loc=4)\n",
        "\n",
        "plt.show()\n",
        "\n",
        "print('Change of {:0.2f}% on accuracy.'.format(100 * (best_grid_acc - xgb_acc)))\n",
        "print('Change of {:0.2f}% on precision.'.format(100 * (best_grid_prec - xgb_prec)))\n",
        "print('Change of {:0.2f}% on recall.'.format(100 * (best_grid_rec - xgb_rec)))\n",
        "print('Change of {:0.2f}% on F1 score.'.format(100 * (best_grid_f1 - xgb_f1)))\n",
        "print('Change of {:0.2f}% on Kappa score.'.format(100 * (best_grid_kappa - xgb_kappa)))\n",
        "print('Change of {:0.2f}% on AUC.'.format(100 * (best_grid_auc - xgb_auc)))"
      ],
      "execution_count": 18,
      "outputs": [
        {
          "output_type": "display_data",
          "data": {
            "image/png": "[encoded data removed]",
            "text/plain": [
              "<Figure size 1008x504 with 2 Axes>"
            ]
          },
          "metadata": {
            "tags": []
          }
        },
        {
          "output_type": "stream",
          "text": [
            "Change of 0.70% on accuracy.\n",
            "Change of -1.67% on precision.\n",
            "Change of 3.51% on recall.\n",
            "Change of 1.89% on F1 score.\n",
            "Change of 1.92% on Kappa score.\n",
            "Change of 0.44% on AUC.\n"
          ],
          "name": "stdout"
        }
      ]
    },
    {
      "cell_type": "markdown",
      "metadata": {
        "id": "ZsG6BmdvVbo1"
      },
      "source": [
        "The result show that our optimized performed little bit better than the original model. The optimized models show an increase in 5 out of the 6 metrics but perform worse in the precision metrics with a decline of 1.7% from the base line model. From this result we can confidently say that our optimized model perform better than the original one."
      ]
    },
    {
      "cell_type": "markdown",
      "metadata": {
        "id": "s06YlIWtrFCV"
      },
      "source": [
        "# Output"
      ]
    },
    {
      "cell_type": "markdown",
      "metadata": {
        "id": "FgmpNUxmoCF6"
      },
      "source": [
        "## Saving model\n",
        "\n",
        "We can save our model and TF-IDF vectorizer for further model reusability. This model can then be loaded on another machine to make new prediction without doing the whole training process again."
      ]
    },
    {
      "cell_type": "code",
      "metadata": {
        "colab": {
          "base_uri": "https://localhost:8080/"
        },
        "id": "3xOrvVg2oCF7",
        "outputId": "1189d064-f4e5-49f1-f7af-36ff6a9d322d"
      },
      "source": [
        "import joblib\n",
        "\n",
        "# Saving model\n",
        "joblib.dump(best_grid, 'Hate Speech Classifier.joblib')\n",
        "joblib.dump(tfidf_vectorizer, 'Hate Speech TF-IDF Vectorizer.joblib')"
      ],
      "execution_count": 19,
      "outputs": [
        {
          "output_type": "execute_result",
          "data": {
            "text/plain": [
              "['Hate Speech TF-IDF Vectorizer.joblib']"
            ]
          },
          "metadata": {
            "tags": []
          },
          "execution_count": 19
        }
      ]
    },
    {
      "cell_type": "markdown",
      "metadata": {
        "id": "e_7PbTssz6xs"
      },
      "source": [
        "## Predict Existing Dataset\n",
        "\n",
        "Using the trained model we can predict the expected outcome of all the row from our dataset then save it into a csv file for easier access in the future."
      ]
    },
    {
      "cell_type": "code",
      "metadata": {
        "id": "182pRuDqrTmR",
        "colab": {
          "base_uri": "https://localhost:8080/",
          "height": 206
        },
        "outputId": "84657183-b2b7-46aa-e524-0c482b2c9766"
      },
      "source": [
        "df['prediction'] = best_grid.predict(tfidf_vectorizer.transform(df1['Tweet']))\n",
        "df['prediction'] = df['prediction'].apply(lambda x: 'HS' if x==1 else 'Non_HS')\n",
        "\n",
        "# Save new dataframe into csv file\n",
        "df.to_csv('Hate Speech Classification.csv', index=False)\n",
        "\n",
        "df.head()"
      ],
      "execution_count": 20,
      "outputs": [
        {
          "output_type": "execute_result",
          "data": {
            "text/html": [
              "<div>\n",
              "<style scoped>\n",
              "    .dataframe tbody tr th:only-of-type {\n",
              "        vertical-align: middle;\n",
              "    }\n",
              "\n",
              "    .dataframe tbody tr th {\n",
              "        vertical-align: top;\n",
              "    }\n",
              "\n",
              "    .dataframe thead th {\n",
              "        text-align: right;\n",
              "    }\n",
              "</style>\n",
              "<table border=\"1\" class=\"dataframe\">\n",
              "  <thead>\n",
              "    <tr style=\"text-align: right;\">\n",
              "      <th></th>\n",
              "      <th>Label</th>\n",
              "      <th>Tweet</th>\n",
              "      <th>prediction</th>\n",
              "    </tr>\n",
              "  </thead>\n",
              "  <tbody>\n",
              "    <tr>\n",
              "      <th>0</th>\n",
              "      <td>Non_HS</td>\n",
              "      <td>RT @spardaxyz: Fadli Zon Minta Mendagri Segera...</td>\n",
              "      <td>Non_HS</td>\n",
              "    </tr>\n",
              "    <tr>\n",
              "      <th>1</th>\n",
              "      <td>Non_HS</td>\n",
              "      <td>RT @baguscondromowo: Mereka terus melukai aksi...</td>\n",
              "      <td>Non_HS</td>\n",
              "    </tr>\n",
              "    <tr>\n",
              "      <th>2</th>\n",
              "      <td>Non_HS</td>\n",
              "      <td>Sylvi: bagaimana gurbernur melakukan kekerasan...</td>\n",
              "      <td>Non_HS</td>\n",
              "    </tr>\n",
              "    <tr>\n",
              "      <th>3</th>\n",
              "      <td>Non_HS</td>\n",
              "      <td>Ahmad Dhani Tak Puas Debat Pilkada, Masalah Ja...</td>\n",
              "      <td>Non_HS</td>\n",
              "    </tr>\n",
              "    <tr>\n",
              "      <th>4</th>\n",
              "      <td>Non_HS</td>\n",
              "      <td>RT @lisdaulay28: Waspada KTP palsu.....kawal P...</td>\n",
              "      <td>Non_HS</td>\n",
              "    </tr>\n",
              "  </tbody>\n",
              "</table>\n",
              "</div>"
            ],
            "text/plain": [
              "    Label                                              Tweet prediction\n",
              "0  Non_HS  RT @spardaxyz: Fadli Zon Minta Mendagri Segera...     Non_HS\n",
              "1  Non_HS  RT @baguscondromowo: Mereka terus melukai aksi...     Non_HS\n",
              "2  Non_HS  Sylvi: bagaimana gurbernur melakukan kekerasan...     Non_HS\n",
              "3  Non_HS  Ahmad Dhani Tak Puas Debat Pilkada, Masalah Ja...     Non_HS\n",
              "4  Non_HS  RT @lisdaulay28: Waspada KTP palsu.....kawal P...     Non_HS"
            ]
          },
          "metadata": {
            "tags": []
          },
          "execution_count": 20
        }
      ]
    },
    {
      "cell_type": "markdown",
      "metadata": {
        "id": "0Liul9qq6pN6"
      },
      "source": [
        "## Predict New Data\n",
        "\n",
        "We can also predict new data using the model. First, we will create a pre-processing function which combine all of our previous function and then create another function to pass the new data into our TF-IDF vectorizer and then predict it using our saved model. We will then print the prediction of the news data into the output cell."
      ]
    },
    {
      "cell_type": "code",
      "metadata": {
        "colab": {
          "base_uri": "https://localhost:8080/"
        },
        "id": "Koo4a24kibMC",
        "outputId": "fbe22e79-742f-4535-c9f9-1d92c4b177b5"
      },
      "source": [
        "input_tweet = ['dasar cina',\n",
        "               'semoga pilkada ini berjalan dengan lancar']\n",
        "\n",
        "def preProcessText(texts):\n",
        "    new_texts = []\n",
        "    for t in texts:\n",
        "        t = tokenizeWords(t)\n",
        "        t = removeUselessText(t)\n",
        "        t = stemmSentence(t)\n",
        "        t = replaceSlang(t)\n",
        "        t = removeStopWords(t)\n",
        "        t = ' '.join(t)\n",
        "        new_texts.append(t)\n",
        "\n",
        "    return new_texts\n",
        "\n",
        "def predictNewData(tweets):\n",
        "    saved_model = joblib.load('Hate Speech Classifier.joblib') \n",
        "    saved_tfidf = joblib.load('Hate Speech TF-IDF Vectorizer.joblib')\n",
        "\n",
        "    vectorized_tweets = saved_tfidf.transform(tweets)\n",
        "    input_prediction = saved_model.predict(vectorized_tweets)\n",
        "\n",
        "    for i in range(len(input_tweet)):\n",
        "        if input_prediction[i]==1:\n",
        "            print('Input text:\\n', \n",
        "                input_tweet[i], \n",
        "                '\\nPrediction: \\nThe tweets is identified as Hate Speech!\\n')\n",
        "        else:\n",
        "            print('Input text:\\n', \n",
        "                input_tweet[i], \n",
        "                \"\\nPrediction: \\nThe tweets is not a Hate Speech. Let's keep it that way.\\n\")\n",
        "            \n",
        "predictNewData(input_tweet)"
      ],
      "execution_count": 22,
      "outputs": [
        {
          "output_type": "stream",
          "text": [
            "Input text:\n",
            " dasar cina \n",
            "Prediction: \n",
            "The tweets is identified as Hate Speech!\n",
            "\n",
            "Input text:\n",
            " semoga pilkada ini berjalan dengan lancar \n",
            "Prediction: \n",
            "The tweets is not a Hate Speech. Let's keep it that way.\n",
            "\n"
          ],
          "name": "stdout"
        }
      ]
    },
    {
      "cell_type": "markdown",
      "metadata": {
        "id": "6f0M9vY6sh5C"
      },
      "source": [
        "# Conclusion\n",
        "\n",
        "We can see that our model did decently on classifying the data. But there are still some weakness on our model, especially shown on the recall metric where we only get about 60%. This means that our model are only able to detect 60% of potential hate speech and miss the other 40%. The result did improve slightly after using `GridSearchCV` but still not enough improvement happens on the recall score. We can improve this by cleaning our data more thoroughly because our current pre-processing  still allow some junk words, especially a few words that are jumbled into one word and also some slang words.\n",
        "\n",
        "# References\n",
        "\n",
        "1. Telkom Digital Talent Incubator - Data Scientist Module 7 (Text Mining)\n",
        "2. [Scikit-learn Documentation](https://scikit-learn.org/stable/index.html)\n",
        "3. [The 5 Classification Evaluation metrics every Data Scientist must know](https://towardsdatascience.com/the-5-classification-evaluation-metrics-you-must-know-aa97784ff226)\n",
        "4. [The Python Graph Gallery - Grouped Bar Plot](https://python-graph-gallery.com/11-grouped-barplot/)\n",
        "5. [Digital Business Ecosystem Research Center - Text Miining (GitHub)](https://github.com/rc-dbe/dti-tm)\n",
        "6. [Dhitology - Social Media Analytics (GitHub)](https://github.com/dhitology/sma-r)\n",
        "7. [Gradient Boosting Classifiers in Python with Scikit-Learn](https://stackabuse.com/gradient-boosting-classifiers-in-python-with-scikit-learn/)\n",
        "8. [The Dataset for Hate Speech Detection in the Indonesian Language (Bahasa Indonesia)](https://github.com/ialfina/id-hatespeech-detection/)"
      ]
    }
  ]
}